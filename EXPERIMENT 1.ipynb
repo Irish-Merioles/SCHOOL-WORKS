{
 "cells": [
  {
   "cell_type": "markdown",
   "id": "34a9d23f-e9ff-4fd2-98a5-cfb7d00f4937",
   "metadata": {},
   "source": [
    "# Experiment 1 - Introduction to Python Programming\n",
    "##### Name: Irish Rianne T. Merioles\n",
    "##### Section: 2ECE-B\n",
    "##### Date Submitted: August 25, 2025"
   ]
  },
  {
   "cell_type": "markdown",
   "id": "c644dcc9-18fc-4148-8f86-621a9289997d",
   "metadata": {},
   "source": [
    "#### Alphabet Soup Problem\n",
    "Create a function that takes a string and returns a string with its letters\n",
    "in alphabetical order."
   ]
  },
  {
   "cell_type": "code",
   "execution_count": 33,
   "id": "27c10205-268f-4552-af6e-6c5b5f0b0ad7",
   "metadata": {},
   "outputs": [],
   "source": [
    "def alphabet_soup(word):\n",
    "    return '' .join(sorted(word))"
   ]
  },
  {
   "cell_type": "code",
   "execution_count": 2,
   "id": "4d2820fc-ec66-4489-b1ee-2e672710a056",
   "metadata": {},
   "outputs": [
    {
     "name": "stdout",
     "output_type": "stream",
     "text": [
      "ehllo\n"
     ]
    }
   ],
   "source": [
    "print(alphabet_soup(\"hello\"))"
   ]
  },
  {
   "cell_type": "code",
   "execution_count": 3,
   "id": "5a828946-0caa-4da6-b750-4a78bfa8b193",
   "metadata": {},
   "outputs": [
    {
     "name": "stdout",
     "output_type": "stream",
     "text": [
      "acehkr\n"
     ]
    }
   ],
   "source": [
    "print(alphabet_soup(\"hacker\"))"
   ]
  },
  {
   "cell_type": "code",
   "execution_count": 34,
   "id": "e35e0e8e-348b-4c93-8946-f32f2281f17c",
   "metadata": {},
   "outputs": [
    {
     "name": "stdout",
     "output_type": "stream",
     "text": [
      "aggimmnoprr\n"
     ]
    }
   ],
   "source": [
    "print(alphabet_soup(\"programming\"))"
   ]
  },
  {
   "cell_type": "markdown",
   "id": "d958313d-27bf-4d9d-9f7f-39aab9c0bab3",
   "metadata": {},
   "source": [
    "#### Emoticon Problem\n",
    "Create a function that changes specific words into emoticons. Given a sentence\n",
    "as a string, replace the words smile, grin, sad and mad with their corresponding emoticon:"
   ]
  },
  {
   "cell_type": "code",
   "execution_count": 7,
   "id": "70dae9bb-f028-431a-8d62-80f6994df662",
   "metadata": {},
   "outputs": [],
   "source": [
    "def emotify(sentence):\n",
    "    emoticons = {\n",
    "        \"smile\": \":)\", \n",
    "        \"grin\": \":D\", \n",
    "        \"sad\": \":(\", \n",
    "        \"mad\": \">:(\"\n",
    "    }\n",
    "    words = sentence.split()\n",
    "    result = [emoticons.get(word,word) for word in words]\n",
    "    return \" \".join(result)"
   ]
  },
  {
   "cell_type": "code",
   "execution_count": 8,
   "id": "b46b5a3f-5e51-4dce-b215-c5ef9aed36e5",
   "metadata": {},
   "outputs": [
    {
     "name": "stdout",
     "output_type": "stream",
     "text": [
      "Make me :)\n"
     ]
    }
   ],
   "source": [
    "print(emotify(\"Make me smile\"))"
   ]
  },
  {
   "cell_type": "code",
   "execution_count": 9,
   "id": "bd97d316-19c3-4ea1-89f5-911b41049706",
   "metadata": {},
   "outputs": [
    {
     "name": "stdout",
     "output_type": "stream",
     "text": [
      "I am >:(\n"
     ]
    }
   ],
   "source": [
    "print(emotify(\"I am mad\"))"
   ]
  },
  {
   "cell_type": "code",
   "execution_count": 11,
   "id": "b46849c7-dad1-4adb-8bef-ed75e38a414d",
   "metadata": {},
   "outputs": [
    {
     "name": "stdout",
     "output_type": "stream",
     "text": [
      "I am happy :D\n"
     ]
    }
   ],
   "source": [
    "print(emotify(\"I am happy grin\"))"
   ]
  },
  {
   "cell_type": "code",
   "execution_count": 12,
   "id": "7c9f4a9e-158e-49dd-bdce-0b8bc06e4734",
   "metadata": {},
   "outputs": [
    {
     "name": "stdout",
     "output_type": "stream",
     "text": [
      "She is :(\n"
     ]
    }
   ],
   "source": [
    "print(emotify(\"She is sad\"))"
   ]
  },
  {
   "cell_type": "markdown",
   "id": "ff916ca5-c8f1-49b6-bc5d-03d722f764b7",
   "metadata": {},
   "source": [
    "#### Unpacking List Problem\n",
    "Unpack the list writeyourcodehere into three variables, being first,\n",
    "middle, and last, with middle being everything in between the first and last element. Then print all three\n",
    "variables."
   ]
  },
  {
   "cell_type": "code",
   "execution_count": 35,
   "id": "91982a3b-eb62-4ce3-93c7-7f28ed6b9ec7",
   "metadata": {},
   "outputs": [],
   "source": [
    "lst = [1, 2, 3, 4, 5, 6]\n",
    "\n",
    "first = lst[0]\n",
    "last = lst[-1]\n",
    "middle = lst[1:-1]\n"
   ]
  },
  {
   "cell_type": "code",
   "execution_count": 30,
   "id": "32b0efaf-9513-4bbe-9956-2d054e6d0f09",
   "metadata": {},
   "outputs": [
    {
     "name": "stdout",
     "output_type": "stream",
     "text": [
      "first: 1\n"
     ]
    }
   ],
   "source": [
    "print(\"first:\" , first)"
   ]
  },
  {
   "cell_type": "code",
   "execution_count": 31,
   "id": "7b02fcd6-8634-4a0c-ba3e-f8ef92724ddb",
   "metadata": {},
   "outputs": [
    {
     "name": "stdout",
     "output_type": "stream",
     "text": [
      "middle: [2, 3, 4, 5]\n"
     ]
    }
   ],
   "source": [
    "print(\"middle:\", middle)"
   ]
  },
  {
   "cell_type": "code",
   "execution_count": 32,
   "id": "a3185003-a9ad-4687-bba8-963885e5faaa",
   "metadata": {},
   "outputs": [
    {
     "name": "stdout",
     "output_type": "stream",
     "text": [
      "last: 6\n"
     ]
    }
   ],
   "source": [
    "print(\"last:\" , last)"
   ]
  }
 ],
 "metadata": {
  "kernelspec": {
   "display_name": "Python [conda env:base] *",
   "language": "python",
   "name": "conda-base-py"
  },
  "language_info": {
   "codemirror_mode": {
    "name": "ipython",
    "version": 3
   },
   "file_extension": ".py",
   "mimetype": "text/x-python",
   "name": "python",
   "nbconvert_exporter": "python",
   "pygments_lexer": "ipython3",
   "version": "3.13.5"
  }
 },
 "nbformat": 4,
 "nbformat_minor": 5
}
